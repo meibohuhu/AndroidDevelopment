{
  "nbformat": 4,
  "nbformat_minor": 0,
  "metadata": {
    "colab": {
      "name": "ML2021Spring - HW1.ipynb",
      "provenance": [],
      "toc_visible": true,
      "include_colab_link": true
    },
    "kernelspec": {
      "name": "python3",
      "display_name": "Python 3"
    },
    "accelerator": "GPU"
  },
  "cells": [
    {
      "cell_type": "markdown",
      "metadata": {
        "id": "view-in-github",
        "colab_type": "text"
      },
      "source": [
        "<a href=\"https://colab.research.google.com/github/meibohuhu/AndroidDevelopment/blob/main/HW01/HW01.ipynb\" target=\"_parent\"><img src=\"https://colab.research.google.com/assets/colab-badge.svg\" alt=\"Open In Colab\"/></a>"
      ]
    },
    {
      "cell_type": "markdown",
      "metadata": {
        "id": "mz0_QVkxCrX3"
      },
      "source": [
        "# **Homework 1: COVID-19 Cases Prediction (Regression)**"
      ]
    },
    {
      "cell_type": "markdown",
      "metadata": {
        "id": "ZeZnPAiwDRWG"
      },
      "source": [
        "Author: Heng-Jui Chang\n",
        "\n",
        "Slides: https://github.com/ga642381/ML2021-Spring/blob/main/HW01/HW01.pdf  \n",
        "Videos (Mandarin): https://cool.ntu.edu.tw/courses/4793/modules/items/172854  \n",
        "https://cool.ntu.edu.tw/courses/4793/modules/items/172853  \n",
        "Video (English): https://cool.ntu.edu.tw/courses/4793/modules/items/176529\n",
        "\n",
        "\n",
        "Objectives:\n",
        "* Solve a regression problem with deep neural networks (DNN).\n",
        "* Understand basic DNN training tips.\n",
        "* Get familiar with PyTorch.\n",
        "\n",
        "If any questions, please contact the TAs via TA hours, NTU COOL, or email.\n"
      ]
    },
    {
      "cell_type": "markdown",
      "metadata": {
        "id": "Jx3x1nDkG-Uy"
      },
      "source": [
        "# **Download Data**\n",
        "\n",
        "\n",
        "If the Google drive links are dead, you can download data from [kaggle](https://www.kaggle.com/c/ml2021spring-hw1/data), and upload data manually to the workspace."
      ]
    },
    {
      "cell_type": "code",
      "metadata": {
        "colab": {
          "base_uri": "https://localhost:8080/"
        },
        "id": "tMj55YDKG6ch",
        "outputId": "0804bcb2-5c0d-4a3f-d69d-9814be72c6f3"
      },
      "source": [
        "tr_path = 'covid.train.csv'  # path to training data\n",
        "tt_path = 'covid.test.csv'   # path to testing data\n",
        "\n",
        "!gdown --id '19CCyCgJrUxtvgZF53vnctJiOJ23T5mqF' --output covid.train.csv\n",
        "!gdown --id '1CE240jLm2npU-tdz81-oVKEF3T2yfT1O' --output covid.test.csv"
      ],
      "execution_count": 3,
      "outputs": [
        {
          "output_type": "stream",
          "name": "stdout",
          "text": [
            "/usr/local/lib/python3.10/dist-packages/gdown/__main__.py:140: FutureWarning: Option `--id` was deprecated in version 4.3.1 and will be removed in 5.0. You don't need to pass it anymore to use a file ID.\n",
            "  warnings.warn(\n",
            "Downloading...\n",
            "From: https://drive.google.com/uc?id=19CCyCgJrUxtvgZF53vnctJiOJ23T5mqF\n",
            "To: /content/covid.train.csv\n",
            "100% 2.00M/2.00M [00:00<00:00, 16.4MB/s]\n",
            "/usr/local/lib/python3.10/dist-packages/gdown/__main__.py:140: FutureWarning: Option `--id` was deprecated in version 4.3.1 and will be removed in 5.0. You don't need to pass it anymore to use a file ID.\n",
            "  warnings.warn(\n",
            "Downloading...\n",
            "From: https://drive.google.com/uc?id=1CE240jLm2npU-tdz81-oVKEF3T2yfT1O\n",
            "To: /content/covid.test.csv\n",
            "100% 651k/651k [00:00<00:00, 8.38MB/s]\n"
          ]
        }
      ]
    },
    {
      "cell_type": "markdown",
      "metadata": {
        "id": "wS_4-77xHk44"
      },
      "source": [
        "# **Import Some Packages**"
      ]
    },
    {
      "cell_type": "code",
      "metadata": {
        "id": "k-onQd4JNA5H"
      },
      "source": [
        "# PyTorch\n",
        "import torch\n",
        "import torch.nn as nn\n",
        "from torch.utils.data import Dataset, DataLoader\n",
        "\n",
        "# For data preprocess\n",
        "import numpy as np\n",
        "import csv\n",
        "import os\n",
        "\n",
        "# For plotting\n",
        "import matplotlib.pyplot as plt\n",
        "from matplotlib.pyplot import figure\n",
        "\n",
        "myseed = 42069  # set a random seed for reproducibility\n",
        "torch.backends.cudnn.deterministic = True\n",
        "torch.backends.cudnn.benchmark = False\n",
        "np.random.seed(myseed)\n",
        "torch.manual_seed(myseed)\n",
        "if torch.cuda.is_available():\n",
        "    torch.cuda.manual_seed_all(myseed)"
      ],
      "execution_count": 4,
      "outputs": []
    },
    {
      "cell_type": "markdown",
      "metadata": {
        "id": "BtE3b6JEH7rw"
      },
      "source": [
        "# **Some Utilities**\n",
        "\n",
        "You do not need to modify this part."
      ]
    },
    {
      "cell_type": "code",
      "metadata": {
        "id": "FWMT3uf1NGQp"
      },
      "source": [
        "def get_device():\n",
        "    ''' Get device (if GPU is available, use GPU) '''\n",
        "    return 'cuda' if torch.cuda.is_available() else 'cpu'\n",
        "\n",
        "def plot_learning_curve(loss_record, title=''):\n",
        "    ''' Plot learning curve of your DNN (train & dev loss) '''\n",
        "    total_steps = len(loss_record['train'])\n",
        "    x_1 = range(total_steps)\n",
        "    x_2 = x_1[::len(loss_record['train']) // len(loss_record['dev'])]\n",
        "    figure(figsize=(6, 4))\n",
        "    plt.plot(x_1, loss_record['train'], c='tab:red', label='train')\n",
        "    plt.plot(x_2, loss_record['dev'], c='tab:cyan', label='dev')\n",
        "    plt.ylim(0.0, 5.)\n",
        "    plt.xlabel('Training steps')\n",
        "    plt.ylabel('MSE loss')\n",
        "    plt.title('Learning curve of {}'.format(title))\n",
        "    plt.legend()\n",
        "    plt.show()\n",
        "\n",
        "\n",
        "def plot_pred(dv_set, model, device, lim=35., preds=None, targets=None):\n",
        "    ''' Plot prediction of your DNN '''\n",
        "    if preds is None or targets is None:\n",
        "        model.eval()\n",
        "        preds, targets = [], []\n",
        "        for x, y in dv_set:\n",
        "            x, y = x.to(device), y.to(device)\n",
        "            with torch.no_grad():\n",
        "                pred = model(x)\n",
        "                preds.append(pred.detach().cpu())\n",
        "                targets.append(y.detach().cpu())\n",
        "        preds = torch.cat(preds, dim=0).numpy()\n",
        "        targets = torch.cat(targets, dim=0).numpy()\n",
        "\n",
        "    figure(figsize=(5, 5))\n",
        "    plt.scatter(targets, preds, c='r', alpha=0.5)\n",
        "    plt.plot([-0.2, lim], [-0.2, lim], c='b')\n",
        "    plt.xlim(-0.2, lim)\n",
        "    plt.ylim(-0.2, lim)\n",
        "    plt.xlabel('ground truth value')\n",
        "    plt.ylabel('predicted value')\n",
        "    plt.title('Ground Truth v.s. Prediction')\n",
        "    plt.show()"
      ],
      "execution_count": 5,
      "outputs": []
    },
    {
      "cell_type": "markdown",
      "metadata": {
        "id": "39U_XFX6KOoj"
      },
      "source": [
        "# **Preprocess**\n",
        "\n",
        "We have three kinds of datasets:\n",
        "* `train`: for training\n",
        "* `dev`: for validation\n",
        "* `test`: for testing (w/o target value)"
      ]
    },
    {
      "cell_type": "markdown",
      "metadata": {
        "id": "TQ-MdwpLL7Dt"
      },
      "source": [
        "## **Dataset**\n",
        "\n",
        "The `COVID19Dataset` below does:\n",
        "* read `.csv` files\n",
        "* extract features\n",
        "* split `covid.train.csv` into train/dev sets\n",
        "* normalize features\n",
        "\n",
        "Finishing `TODO` below might make you pass medium baseline."
      ]
    },
    {
      "cell_type": "code",
      "metadata": {
        "id": "0zlpIp9ANJRU"
      },
      "source": [
        "class COVID19Dataset(Dataset):\n",
        "    ''' Dataset for loading and preprocessing the COVID19 dataset '''\n",
        "    def __init__(self,\n",
        "                 path,\n",
        "                 mode='train',\n",
        "                 target_only=False):\n",
        "        self.mode = mode\n",
        "\n",
        "        # Read data into numpy arrays\n",
        "        with open(path, 'r') as fp:\n",
        "            data = list(csv.reader(fp))\n",
        "            data = np.array(data[1:])[:, 1:].astype(float)\n",
        "        print(f\"data id: {data}:\")\n",
        "        if not target_only:\n",
        "            feats = list(range(93))\n",
        "            print(f\"feats id: {feats}:\")\n",
        "        else:\n",
        "            # TODO: Using 40 states & 2 tested_positive features (indices = 57 & 75)\n",
        "            pass\n",
        "\n",
        "        if mode == 'test':\n",
        "            # Testing data\n",
        "            # data: 893 x 93 (40 states + day 1 (18) + day 2 (18) + day 3 (17))\n",
        "            data = data[:, feats]\n",
        "            self.data = torch.FloatTensor(data)\n",
        "        else:\n",
        "            # Training data (train/dev sets)\n",
        "            # data: 2700 x 94 (40 states + day 1 (18) + day 2 (18) + day 3 (18))\n",
        "            target = data[:, -1]\n",
        "            data = data[:, feats]\n",
        "\n",
        "            # Splitting training data into train & dev sets\n",
        "            if mode == 'train':\n",
        "                indices = [i for i in range(len(data)) if i % 10 != 0]\n",
        "            elif mode == 'dev':\n",
        "                indices = [i for i in range(len(data)) if i % 10 == 0]\n",
        "\n",
        "            # Convert data into PyTorch tensors\n",
        "            self.data = torch.FloatTensor(data[indices])\n",
        "            self.target = torch.FloatTensor(target[indices])\n",
        "\n",
        "            print(f\"target: {self.target}\")\n",
        "\n",
        "        # Normalize features (you may remove this part to see what will happen)\n",
        "        self.data[:, 40:] = \\\n",
        "            (self.data[:, 40:] - self.data[:, 40:].mean(dim=0, keepdim=True)) \\\n",
        "            / self.data[:, 40:].std(dim=0, keepdim=True)\n",
        "\n",
        "        self.dim = self.data.shape[1]\n",
        "        print(f\"self.dim is {self.dim}\")\n",
        "        print('Finished reading the {} set of COVID19 Dataset ({} samples found, each dim = {})'\n",
        "              .format(mode, len(self.data), self.dim))\n",
        "\n",
        "    def __getitem__(self, index):\n",
        "        # Returns one sample at a time\n",
        "        if self.mode in ['train', 'dev']:\n",
        "            # For training\n",
        "            return self.data[index], self.target[index]\n",
        "        else:\n",
        "            # For testing (no target)\n",
        "            return self.data[index]\n",
        "\n",
        "    def __len__(self):\n",
        "        # Returns the size of the dataset\n",
        "        return len(self.data)"
      ],
      "execution_count": 20,
      "outputs": []
    },
    {
      "cell_type": "markdown",
      "metadata": {
        "id": "AlhTlkE7MDo3"
      },
      "source": [
        "## **DataLoader**\n",
        "\n",
        "A `DataLoader` loads data from a given `Dataset` into batches.\n"
      ]
    },
    {
      "cell_type": "code",
      "metadata": {
        "id": "hlhLk5t6MBX3"
      },
      "source": [
        "def prep_dataloader(path, mode, batch_size, n_jobs=0, target_only=False):\n",
        "    ''' Generates a dataset, then is put into a dataloader. '''\n",
        "    dataset = COVID19Dataset(path, mode=mode, target_only=target_only)  # Construct dataset\n",
        "    dataloader = DataLoader(\n",
        "        dataset, batch_size,\n",
        "        shuffle=(mode == 'train'), drop_last=False,\n",
        "        num_workers=n_jobs, pin_memory=True)                            # Construct dataloader\n",
        "    return dataloader"
      ],
      "execution_count": 8,
      "outputs": []
    },
    {
      "cell_type": "markdown",
      "metadata": {
        "id": "SGuycwR0MeQB"
      },
      "source": [
        "# **Deep Neural Network**\n",
        "\n",
        "`NeuralNet` is an `nn.Module` designed for regression.\n",
        "The DNN consists of 2 fully-connected layers with ReLU activation.\n",
        "This module also included a function `cal_loss` for calculating loss.\n"
      ]
    },
    {
      "cell_type": "code",
      "metadata": {
        "id": "49-uXYovOAI0"
      },
      "source": [
        "class NeuralNet(nn.Module):\n",
        "    ''' A simple fully-connected deep neural network '''\n",
        "    def __init__(self, input_dim):\n",
        "        super(NeuralNet, self).__init__()\n",
        "\n",
        "        # Define your neural network here\n",
        "        # TODO: How to modify this model to achieve better performance?\n",
        "        self.net = nn.Sequential(\n",
        "            nn.Linear(input_dim, 64),\n",
        "            nn.ReLU(),\n",
        "            nn.Linear(64, 1)\n",
        "        )\n",
        "\n",
        "        # Mean squared error loss\n",
        "        self.criterion = nn.MSELoss(reduction='mean')\n",
        "\n",
        "    def forward(self, x):\n",
        "        ''' Given input of size (batch_size x input_dim), compute output of the network '''\n",
        "        return self.net(x).squeeze(1)\n",
        "\n",
        "    def cal_loss(self, pred, target):\n",
        "        ''' Calculate loss '''\n",
        "        # TODO: you may implement L1/L2 regularization here\n",
        "        # return self.criterion(pred, target)\n",
        "        return l1_loss(self, pred, target)\n",
        "\n",
        "    # def l1_loss(y_true, y_pred, weights, lambda_param=0.01):\n",
        "    #   mse = np.mean((y_true - y_pred) ** 2)\n",
        "    #   l1_term = lambda_param * np.sum(np.abs(weights))\n",
        "    #   return mse + l1_term\n",
        "    def l1_loss(self, y_pred, y_true):\n",
        "        # Calculate MSE loss\n",
        "        mse_loss = self.criterion(y_pred, y_true)\n",
        "\n",
        "        # Calculate L1 regularization term\n",
        "        l1_reg = torch.tensor(0., requires_grad=True)\n",
        "        for param in self.net.parameters():\n",
        "            l1_reg = l1_reg + torch.norm(param, 1)\n",
        "\n",
        "        # Combine MSE with L1 regularization\n",
        "        total_loss = mse_loss + self.lambda_l1 * l1_reg\n",
        "\n",
        "        return total_loss"
      ],
      "execution_count": 9,
      "outputs": []
    },
    {
      "cell_type": "markdown",
      "metadata": {
        "id": "DvFWVjZ5Nvga"
      },
      "source": [
        "# **Train/Dev/Test**"
      ]
    },
    {
      "cell_type": "markdown",
      "metadata": {
        "id": "MAM8QecJOyqn"
      },
      "source": [
        "## **Training**"
      ]
    },
    {
      "cell_type": "code",
      "metadata": {
        "id": "lOqcmYzMO7jB"
      },
      "source": [
        "def train(tr_set, dv_set, model, config, device):\n",
        "    ''' DNN training '''\n",
        "\n",
        "    n_epochs = config['n_epochs']  # Maximum number of epochs\n",
        "\n",
        "    # Setup optimizer\n",
        "    optimizer = getattr(torch.optim, config['optimizer'])(\n",
        "        model.parameters(), **config['optim_hparas'])\n",
        "\n",
        "    min_mse = 1000.\n",
        "    loss_record = {'train': [], 'dev': []}      # for recording training loss\n",
        "    early_stop_cnt = 0\n",
        "    epoch = 0\n",
        "    while epoch < n_epochs:\n",
        "        model.train()                           # set model to training mode\n",
        "        for x, y in tr_set:                     # iterate through the dataloader\n",
        "            optimizer.zero_grad()               # set gradient to zero\n",
        "            x, y = x.to(device), y.to(device)   # move data to device (cpu/cuda)\n",
        "            pred = model(x)                     # forward pass (compute output)\n",
        "            mse_loss = model.cal_loss(pred, y)  # compute loss\n",
        "            mse_loss.backward()                 # compute gradient (backpropagation)\n",
        "            optimizer.step()                    # update model with optimizer\n",
        "            loss_record['train'].append(mse_loss.detach().cpu().item())\n",
        "\n",
        "        # After each epoch, test your model on the validation (development) set.\n",
        "        dev_mse = dev(dv_set, model, device)\n",
        "        if dev_mse < min_mse:\n",
        "            # Save model if your model improved\n",
        "            min_mse = dev_mse\n",
        "            print('Saving model (epoch = {:4d}, loss = {:.4f})'\n",
        "                .format(epoch + 1, min_mse))\n",
        "            torch.save(model.state_dict(), config['save_path'])  # Save model to specified path\n",
        "            early_stop_cnt = 0\n",
        "        else:\n",
        "            early_stop_cnt += 1\n",
        "\n",
        "        epoch += 1\n",
        "        loss_record['dev'].append(dev_mse)\n",
        "        if early_stop_cnt > config['early_stop']:\n",
        "            # Stop training if your model stops improving for \"config['early_stop']\" epochs.\n",
        "            break\n",
        "\n",
        "    print('Finished training after {} epochs'.format(epoch))\n",
        "    return min_mse, loss_record"
      ],
      "execution_count": 10,
      "outputs": []
    },
    {
      "cell_type": "markdown",
      "metadata": {
        "id": "0hSd4Bn3O2PL"
      },
      "source": [
        "## **Validation**"
      ]
    },
    {
      "cell_type": "code",
      "metadata": {
        "id": "yrxrD3YsN3U2"
      },
      "source": [
        "def dev(dv_set, model, device):\n",
        "    model.eval()                                # set model to evalutation mode\n",
        "    total_loss = 0\n",
        "    for x, y in dv_set:                         # iterate through the dataloader\n",
        "        x, y = x.to(device), y.to(device)       # move data to device (cpu/cuda)\n",
        "        with torch.no_grad():                   # disable gradient calculation\n",
        "            pred = model(x)                     # forward pass (compute output)\n",
        "            mse_loss = model.cal_loss(pred, y)  # compute loss\n",
        "        total_loss += mse_loss.detach().cpu().item() * len(x)  # accumulate loss\n",
        "    total_loss = total_loss / len(dv_set.dataset)              # compute averaged loss\n",
        "\n",
        "    return total_loss"
      ],
      "execution_count": 11,
      "outputs": []
    },
    {
      "cell_type": "markdown",
      "metadata": {
        "id": "g0pdrhQAO41L"
      },
      "source": [
        "## **Testing**"
      ]
    },
    {
      "cell_type": "code",
      "metadata": {
        "id": "aSBMRFlYN5tB"
      },
      "source": [
        "def test(tt_set, model, device):\n",
        "    model.eval()                                # set model to evalutation mode\n",
        "    preds = []\n",
        "    for x in tt_set:                            # iterate through the dataloader\n",
        "        x = x.to(device)                        # move data to device (cpu/cuda)\n",
        "        with torch.no_grad():                   # disable gradient calculation\n",
        "            pred = model(x)                     # forward pass (compute output)\n",
        "            preds.append(pred.detach().cpu())   # collect prediction\n",
        "    preds = torch.cat(preds, dim=0).numpy()     # concatenate all predictions and convert to a numpy array\n",
        "    return preds"
      ],
      "execution_count": 12,
      "outputs": []
    },
    {
      "cell_type": "markdown",
      "metadata": {
        "id": "SvckkF5dvf0j"
      },
      "source": [
        "# **Setup Hyper-parameters**\n",
        "\n",
        "`config` contains hyper-parameters for training and the path to save your model."
      ]
    },
    {
      "cell_type": "code",
      "metadata": {
        "id": "NPXpdumwPjE7"
      },
      "source": [
        "device = get_device()                 # get the current available device ('cpu' or 'cuda')\n",
        "os.makedirs('models', exist_ok=True)  # The trained model will be saved to ./models/\n",
        "target_only = False                   # TODO: Using 40 states & 2 tested_positive features\n",
        "\n",
        "# TODO: How to tune these hyper-parameters to improve your model's performance?\n",
        "config = {\n",
        "    'n_epochs': 300,                # maximum number of epochs\n",
        "    'batch_size': 270,               # mini-batch size for dataloader\n",
        "    'optimizer': 'SGD',              # optimization algorithm (optimizer in torch.optim)\n",
        "    'optim_hparas': {                # hyper-parameters for the optimizer (depends on which optimizer you are using)\n",
        "        'lr': 0.001,                 # learning rate of SGD\n",
        "        'momentum': 0.9              # momentum for SGD\n",
        "    },\n",
        "    'early_stop': 200,               # early stopping epochs (the number epochs since your model's last improvement)\n",
        "    'save_path': 'models/model.pth'  # your model will be saved here\n",
        "}"
      ],
      "execution_count": 23,
      "outputs": []
    },
    {
      "cell_type": "markdown",
      "metadata": {
        "id": "6j1eOV3TOH-j"
      },
      "source": [
        "# **Load data and model**"
      ]
    },
    {
      "cell_type": "code",
      "metadata": {
        "colab": {
          "base_uri": "https://localhost:8080/"
        },
        "id": "eNrYBMmePLKm",
        "outputId": "b3a2328b-54a0-4e28-b317-5dc33f43e308"
      },
      "source": [
        "tr_set = prep_dataloader(tr_path, 'train', config['batch_size'], target_only=target_only)\n",
        "dv_set = prep_dataloader(tr_path, 'dev', config['batch_size'], target_only=target_only)\n",
        "# tt_set = prep_dataloader(tt_path, 'test', config['batch_size'], target_only=target_only)"
      ],
      "execution_count": 24,
      "outputs": [
        {
          "output_type": "stream",
          "name": "stdout",
          "text": [
            "data id: [[ 1.         0.         0.        ... 53.9915494 43.6042293 20.7049346]\n",
            " [ 1.         0.         0.        ... 54.185521  42.6657659 21.2929114]\n",
            " [ 1.         0.         0.        ... 53.6370693 42.972417  21.1666563]\n",
            " ...\n",
            " [ 0.         0.         0.        ... 67.731162  38.740651  12.6134414]\n",
            " [ 0.         0.         0.        ... 67.7950996 38.595125  12.4772268]\n",
            " [ 0.         0.         0.        ... 68.2840782 38.4538196 11.8117187]]:\n",
            "feats id: [0, 1, 2, 3, 4, 5, 6, 7, 8, 9, 10, 11, 12, 13, 14, 15, 16, 17, 18, 19, 20, 21, 22, 23, 24, 25, 26, 27, 28, 29, 30, 31, 32, 33, 34, 35, 36, 37, 38, 39, 40, 41, 42, 43, 44, 45, 46, 47, 48, 49, 50, 51, 52, 53, 54, 55, 56, 57, 58, 59, 60, 61, 62, 63, 64, 65, 66, 67, 68, 69, 70, 71, 72, 73, 74, 75, 76, 77, 78, 79, 80, 81, 82, 83, 84, 85, 86, 87, 88, 89, 90, 91, 92]:\n",
            "target: tensor([21.2929, 21.1667, 19.8966,  ..., 12.6134, 12.4772, 11.8117])\n",
            "self.dim is 93\n",
            "Finished reading the train set of COVID19 Dataset (2430 samples found, each dim = 93)\n",
            "data id: [[ 1.         0.         0.        ... 53.9915494 43.6042293 20.7049346]\n",
            " [ 1.         0.         0.        ... 54.185521  42.6657659 21.2929114]\n",
            " [ 1.         0.         0.        ... 53.6370693 42.972417  21.1666563]\n",
            " ...\n",
            " [ 0.         0.         0.        ... 67.731162  38.740651  12.6134414]\n",
            " [ 0.         0.         0.        ... 67.7950996 38.595125  12.4772268]\n",
            " [ 0.         0.         0.        ... 68.2840782 38.4538196 11.8117187]]:\n",
            "feats id: [0, 1, 2, 3, 4, 5, 6, 7, 8, 9, 10, 11, 12, 13, 14, 15, 16, 17, 18, 19, 20, 21, 22, 23, 24, 25, 26, 27, 28, 29, 30, 31, 32, 33, 34, 35, 36, 37, 38, 39, 40, 41, 42, 43, 44, 45, 46, 47, 48, 49, 50, 51, 52, 53, 54, 55, 56, 57, 58, 59, 60, 61, 62, 63, 64, 65, 66, 67, 68, 69, 70, 71, 72, 73, 74, 75, 76, 77, 78, 79, 80, 81, 82, 83, 84, 85, 86, 87, 88, 89, 90, 91, 92]:\n",
            "target: tensor([20.7049, 14.7807, 15.6246, 16.3530, 21.1403, 20.8325, 24.9998,  3.5714,\n",
            "         8.6364,  5.7692,  8.6777,  2.8689, 13.1818, 16.1972,  6.8915,  6.3984,\n",
            "         5.9165,  7.7938,  7.7073, 12.3563, 12.7403, 14.3317, 11.1861, 21.9149,\n",
            "        15.7216, 20.2072, 25.5939,  7.4021,  6.4085,  6.0283,  5.9251,  5.5663,\n",
            "         7.7832,  7.3929,  6.8333,  4.4167,  8.1111,  8.1560, 10.5540, 19.6793,\n",
            "        19.3069,  3.7081,  3.7349,  3.5714,  5.3172,  7.1256,  9.6074,  9.9155,\n",
            "         9.7659,  9.7680,  9.4623, 12.0087, 10.4674, 14.1234, 13.6284, 16.2547,\n",
            "        12.1887, 13.4219, 11.4552, 13.7278, 14.9270, 16.9451, 13.5416, 24.6665,\n",
            "        25.5589, 31.2903, 33.9516,  8.7232,  9.4743, 10.4471, 10.4545, 13.6004,\n",
            "        21.5362, 24.7947,  8.0300, 10.0231, 10.1980, 13.5331, 17.4769, 24.8762,\n",
            "        26.2595, 15.9436, 16.9328, 17.6547, 20.6308, 22.7727, 35.3088, 36.3085,\n",
            "         9.6535, 14.2492, 17.8857, 18.5279, 27.2095, 34.6939,  5.5838,  8.7310,\n",
            "         5.3524, 10.9467, 10.6357, 15.4454, 17.5906, 15.9164, 12.1667, 11.6864,\n",
            "        18.8136, 16.1972, 20.7895, 19.6934,  3.4328,  5.3623,  6.6978,  4.7965,\n",
            "         7.0447,  7.5002,  2.7955,  2.6699,  2.9236,  4.3846,  2.8400,  4.2266,\n",
            "         6.3151,  3.5552,  5.7635,  9.5210,  7.8600, 11.7246, 21.8559, 21.3177,\n",
            "         8.4688,  9.5714, 10.6358, 13.0657, 15.2333, 25.8462, 23.3341, 26.2862,\n",
            "        24.1377, 25.5078, 32.0859, 34.6538, 32.1228, 27.8052, 21.7863, 24.6114,\n",
            "        23.7782, 25.3970, 25.9979, 19.5248, 25.9552, 25.1661, 25.5945, 22.8514,\n",
            "        21.9144, 24.1784, 18.4365, 21.6929, 25.4017, 24.9391, 25.2821, 27.2217,\n",
            "        21.4053, 18.9927, 11.9544, 13.8410, 14.0538, 13.6969, 15.8808, 13.5315,\n",
            "        19.8848, 16.4687, 18.2368, 13.7259, 17.7635, 15.5539, 14.0926,  6.9774,\n",
            "         8.3083,  9.6499, 11.0942, 12.5183, 13.5763, 12.8692, 12.9802, 13.9286,\n",
            "        18.6407, 18.1189, 20.1045, 20.9195, 20.7997, 23.7527, 24.5305, 26.1734,\n",
            "        24.5663, 26.8204, 25.4401, 20.5535, 22.1942, 26.6685, 28.8944, 28.5828,\n",
            "        35.6474, 26.9797,  9.8705, 11.2216,  9.6731, 13.3239, 12.5317, 12.5703,\n",
            "         8.2829, 19.1983, 22.5969, 23.5935, 25.9001, 24.6988, 25.2553, 21.3563,\n",
            "        12.1133, 16.9385, 17.0957,  8.9584, 13.6514,  9.6829, 10.1373, 10.3420,\n",
            "        17.6791, 20.2152, 20.7517, 25.9487, 24.4629, 20.1631, 20.3369, 21.6015,\n",
            "        23.2329, 24.6127, 28.6281, 25.0085, 27.3285, 22.5122, 25.8700, 23.2383,\n",
            "        27.3183, 31.4549, 20.4373, 12.4127, 15.8738, 17.5510, 21.0565, 19.5545,\n",
            "        24.4510, 22.1006,  9.8401, 10.0151, 11.3076, 11.8321, 10.3945, 11.5500,\n",
            "         9.4237, 16.0550, 16.3664, 19.7704, 20.4319, 23.6292, 21.6321, 16.5551,\n",
            "        21.9787, 20.1007, 18.6773, 12.9403, 17.1829, 13.6446])\n",
            "self.dim is 93\n",
            "Finished reading the dev set of COVID19 Dataset (270 samples found, each dim = 93)\n"
          ]
        }
      ]
    },
    {
      "cell_type": "code",
      "metadata": {
        "id": "FHylSirLP9oh"
      },
      "source": [
        "model = NeuralNet(tr_set.dataset.dim).to(device)  # Construct model and move to device"
      ],
      "execution_count": 25,
      "outputs": []
    },
    {
      "cell_type": "markdown",
      "metadata": {
        "id": "sX2B_zgSOPTJ"
      },
      "source": [
        "# **Start Training!**"
      ]
    },
    {
      "cell_type": "code",
      "metadata": {
        "colab": {
          "base_uri": "https://localhost:8080/"
        },
        "id": "GrEbUxazQAAZ",
        "outputId": "6740569c-c3eb-47ab-fdd9-248a604f20a0"
      },
      "source": [
        "model_loss, model_loss_record = train(tr_set, dv_set, model, config, device)"
      ],
      "execution_count": 26,
      "outputs": [
        {
          "output_type": "stream",
          "name": "stdout",
          "text": [
            "Saving model (epoch =    1, loss = 100.2521)\n",
            "Saving model (epoch =    2, loss = 53.9696)\n",
            "Saving model (epoch =    3, loss = 29.7376)\n",
            "Saving model (epoch =    4, loss = 16.6528)\n",
            "Saving model (epoch =    5, loss = 10.6318)\n",
            "Saving model (epoch =    6, loss = 6.9761)\n",
            "Saving model (epoch =    7, loss = 5.6649)\n",
            "Saving model (epoch =    8, loss = 4.8619)\n",
            "Saving model (epoch =    9, loss = 4.1980)\n",
            "Saving model (epoch =   10, loss = 3.7281)\n",
            "Saving model (epoch =   11, loss = 3.3522)\n",
            "Saving model (epoch =   12, loss = 3.0680)\n",
            "Saving model (epoch =   13, loss = 2.8696)\n",
            "Saving model (epoch =   14, loss = 2.6897)\n",
            "Saving model (epoch =   15, loss = 2.4842)\n",
            "Saving model (epoch =   16, loss = 2.3616)\n",
            "Saving model (epoch =   17, loss = 2.2240)\n",
            "Saving model (epoch =   18, loss = 2.1574)\n",
            "Saving model (epoch =   19, loss = 2.0041)\n",
            "Saving model (epoch =   20, loss = 1.9302)\n",
            "Saving model (epoch =   21, loss = 1.8369)\n",
            "Saving model (epoch =   22, loss = 1.7633)\n",
            "Saving model (epoch =   23, loss = 1.6805)\n",
            "Saving model (epoch =   24, loss = 1.6249)\n",
            "Saving model (epoch =   25, loss = 1.5748)\n",
            "Saving model (epoch =   26, loss = 1.4954)\n",
            "Saving model (epoch =   27, loss = 1.4800)\n",
            "Saving model (epoch =   28, loss = 1.4103)\n",
            "Saving model (epoch =   29, loss = 1.3606)\n",
            "Saving model (epoch =   30, loss = 1.3448)\n",
            "Saving model (epoch =   31, loss = 1.3215)\n",
            "Saving model (epoch =   32, loss = 1.2843)\n",
            "Saving model (epoch =   33, loss = 1.2725)\n",
            "Saving model (epoch =   34, loss = 1.2387)\n",
            "Saving model (epoch =   36, loss = 1.2288)\n",
            "Saving model (epoch =   37, loss = 1.2052)\n",
            "Saving model (epoch =   39, loss = 1.1687)\n",
            "Saving model (epoch =   42, loss = 1.1154)\n",
            "Saving model (epoch =   45, loss = 1.1006)\n",
            "Saving model (epoch =   47, loss = 1.0696)\n",
            "Saving model (epoch =   51, loss = 1.0636)\n",
            "Saving model (epoch =   52, loss = 1.0565)\n",
            "Saving model (epoch =   53, loss = 1.0282)\n",
            "Saving model (epoch =   55, loss = 1.0181)\n",
            "Saving model (epoch =   57, loss = 1.0103)\n",
            "Saving model (epoch =   58, loss = 1.0070)\n",
            "Saving model (epoch =   59, loss = 1.0024)\n",
            "Saving model (epoch =   61, loss = 0.9980)\n",
            "Saving model (epoch =   62, loss = 0.9917)\n",
            "Saving model (epoch =   63, loss = 0.9868)\n",
            "Saving model (epoch =   67, loss = 0.9691)\n",
            "Saving model (epoch =   70, loss = 0.9663)\n",
            "Saving model (epoch =   71, loss = 0.9603)\n",
            "Saving model (epoch =   72, loss = 0.9516)\n",
            "Saving model (epoch =   76, loss = 0.9419)\n",
            "Saving model (epoch =   77, loss = 0.9402)\n",
            "Saving model (epoch =   80, loss = 0.9368)\n",
            "Saving model (epoch =   82, loss = 0.9269)\n",
            "Saving model (epoch =   84, loss = 0.9131)\n",
            "Saving model (epoch =   91, loss = 0.9051)\n",
            "Saving model (epoch =   94, loss = 0.8945)\n",
            "Saving model (epoch =   99, loss = 0.8803)\n",
            "Saving model (epoch =  107, loss = 0.8665)\n",
            "Saving model (epoch =  115, loss = 0.8664)\n",
            "Saving model (epoch =  119, loss = 0.8613)\n",
            "Saving model (epoch =  124, loss = 0.8508)\n",
            "Saving model (epoch =  126, loss = 0.8498)\n",
            "Saving model (epoch =  128, loss = 0.8345)\n",
            "Saving model (epoch =  142, loss = 0.8269)\n",
            "Saving model (epoch =  152, loss = 0.8245)\n",
            "Saving model (epoch =  158, loss = 0.8230)\n",
            "Saving model (epoch =  162, loss = 0.8093)\n",
            "Saving model (epoch =  189, loss = 0.8065)\n",
            "Saving model (epoch =  203, loss = 0.8021)\n",
            "Saving model (epoch =  205, loss = 0.7943)\n",
            "Saving model (epoch =  213, loss = 0.7913)\n",
            "Saving model (epoch =  245, loss = 0.7866)\n",
            "Saving model (epoch =  253, loss = 0.7853)\n",
            "Saving model (epoch =  258, loss = 0.7850)\n",
            "Saving model (epoch =  293, loss = 0.7838)\n",
            "Finished training after 300 epochs\n"
          ]
        }
      ]
    },
    {
      "cell_type": "code",
      "metadata": {
        "colab": {
          "base_uri": "https://localhost:8080/",
          "height": 410
        },
        "id": "hsNO9nnXQBvP",
        "outputId": "5e48dfd0-b32f-441d-b35c-73c0828ff90c"
      },
      "source": [
        "plot_learning_curve(model_loss_record, title='deep model')"
      ],
      "execution_count": 27,
      "outputs": [
        {
          "output_type": "display_data",
          "data": {
            "text/plain": [
              "<Figure size 600x400 with 1 Axes>"
            ],
            "image/png": "[encoded data removed]"
          },
          "metadata": {}
        }
      ]
    },
    {
      "cell_type": "code",
      "metadata": {
        "colab": {
          "base_uri": "https://localhost:8080/",
          "height": 350
        },
        "id": "3iZTVn5WQFpX",
        "outputId": "a2d5e118-559d-45c6-b644-6792af54663d"
      },
      "source": [
        "del model\n",
        "model = NeuralNet(tr_set.dataset.dim).to(device)\n",
        "ckpt = torch.load(config['save_path'], map_location='cpu')  # Load your best model\n",
        "model.load_state_dict(ckpt)\n",
        "plot_pred(dv_set, model, device)  # Show prediction on the validation set"
      ],
      "execution_count": null,
      "outputs": [
        {
          "output_type": "display_data",
          "data": {
            "image/png": "[encoded data removed]",
            "text/plain": [
              "<Figure size 360x360 with 1 Axes>"
            ]
          },
          "metadata": {
            "tags": [],
            "needs_background": "light"
          }
        }
      ]
    },
    {
      "cell_type": "markdown",
      "metadata": {
        "id": "aQikz3IPiyPf"
      },
      "source": [
        "# **Testing**\n",
        "The predictions of your model on testing set will be stored at `pred.csv`."
      ]
    },
    {
      "cell_type": "code",
      "metadata": {
        "colab": {
          "base_uri": "https://localhost:8080/"
        },
        "id": "O8cTuQjQQOon",
        "outputId": "6bc5de07-4c5a-4e87-9ae3-d09f539c5f2c"
      },
      "source": [
        "def save_pred(preds, file):\n",
        "    ''' Save predictions to specified file '''\n",
        "    print('Saving results to {}'.format(file))\n",
        "    with open(file, 'w') as fp:\n",
        "        writer = csv.writer(fp)\n",
        "        writer.writerow(['id', 'tested_positive'])\n",
        "        for i, p in enumerate(preds):\n",
        "            writer.writerow([i, p])\n",
        "\n",
        "preds = test(tt_set, model, device)  # predict COVID-19 cases with your model\n",
        "save_pred(preds, 'pred.csv')         # save prediction file to pred.csv"
      ],
      "execution_count": null,
      "outputs": [
        {
          "output_type": "stream",
          "text": [
            "Saving results to pred.csv\n"
          ],
          "name": "stdout"
        }
      ]
    },
    {
      "cell_type": "markdown",
      "metadata": {
        "id": "nfrVxqJanGpE"
      },
      "source": [
        "# **Hints**\n",
        "\n",
        "## **Simple Baseline**\n",
        "* Run sample code\n",
        "\n",
        "## **Medium Baseline**\n",
        "* Feature selection: 40 states + 2 `tested_positive` (`TODO` in dataset)\n",
        "\n",
        "## **Strong Baseline**\n",
        "* Feature selection (what other features are useful?)\n",
        "* DNN architecture (layers? dimension? activation function?)\n",
        "* Training (mini-batch? optimizer? learning rate?)\n",
        "* L2 regularization\n",
        "* There are some mistakes in the sample code, can you find them?"
      ]
    },
    {
      "cell_type": "markdown",
      "metadata": {
        "id": "9tmCwXgpot3t"
      },
      "source": [
        "# **Reference**\n",
        "This code is completely written by Heng-Jui Chang @ NTUEE.  \n",
        "Copying or reusing this code is required to specify the original author.\n",
        "\n",
        "E.g.  \n",
        "Source: Heng-Jui Chang @ NTUEE (https://github.com/ga642381/ML2021-Spring/blob/main/HW01/HW01.ipynb)\n"
      ]
    }
  ]
}